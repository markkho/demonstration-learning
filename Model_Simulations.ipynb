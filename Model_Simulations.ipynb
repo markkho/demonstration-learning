{
 "cells": [
  {
   "cell_type": "markdown",
   "metadata": {},
   "source": [
    "# Teaching with and Learning from Demonstration model\n",
    "This notebook generates simulation data for four models: the doing demonstrator, showing model, naive observer, and sophisticated observer. Visualizations of these simulations are in the Visualization notebook."
   ]
  },
  {
   "cell_type": "code",
   "execution_count": null,
   "metadata": {
    "collapsed": false
   },
   "outputs": [],
   "source": [
    "import copy\n",
    "from itertools import product\n",
    "import time\n",
    "import pickle\n",
    "\n",
    "import matplotlib.pyplot as plt\n",
    "import numpy as np\n",
    "import pandas as pd\n",
    "import seaborn as sns\n",
    "\n",
    "from mdp_lib.domains.gridworld import GridWorld\n",
    "from planninginbeliefmodel import PlanningInObserverBeliefModel\n",
    "from mdp_lib.domains.gridworldvis import visualize_trajectory, plot_text\n",
    "from task import mdp_codes, mdp_params\n",
    "from mdp_lib.util import sample_prob_dict\n",
    "from util import mdp_to_feature_belief\n",
    "\n",
    "np.random.seed(128374027)"
   ]
  },
  {
   "cell_type": "markdown",
   "metadata": {},
   "source": [
    "# Parameters for doing and showing demonstration models"
   ]
  },
  {
   "cell_type": "code",
   "execution_count": 2,
   "metadata": {
    "collapsed": true
   },
   "outputs": [],
   "source": [
    "#doing model parameters\n",
    "do_discount = .99\n",
    "do_softmax = .08\n",
    "\n",
    "#showing model parameters\n",
    "base_discount_rate = .99\n",
    "base_softmax_temp = 3.0\n",
    "obmdp_discount_rate = .9\n",
    "obmdp_softmax_temp= 1"
   ]
  },
  {
   "cell_type": "markdown",
   "metadata": {},
   "source": [
    "# Doing model\n",
    "This code builds doing models for the different MDPs that are defined in `task.py`. It also generates seed trajectories for building a discretized observer belief MDP (OBMDP) transition function. Using trajectories guided by what a doing agent would do helps focus the approximation on parts of the world-belief state space that are relevant."
   ]
  },
  {
   "cell_type": "code",
   "execution_count": 3,
   "metadata": {
    "collapsed": false
   },
   "outputs": [],
   "source": [
    "doing_models = []\n",
    "seed_trajs = []\n",
    "for p in mdp_params:\n",
    "    p = copy.deepcopy(p)\n",
    "    p['discount_rate'] = do_discount\n",
    "    m = GridWorld(**p)\n",
    "    m.solve()\n",
    "    doing_models.append(m)\n",
    "    \n",
    "    #generate seed trajectories for OBMDP discretization\n",
    "    for _ in xrange(20):\n",
    "        traj = m.run(temp=.7)\n",
    "        if traj[-1][1] != '%':\n",
    "            continue\n",
    "        seed_trajs.append([(w, a) for w, a, _, _ in traj])\n",
    "        \n",
    "with open(\"./cached_values/seed_trajs.pkl\", 'wb') as f:\n",
    "    pickle.dump(seed_trajs, f)"
   ]
  },
  {
   "cell_type": "markdown",
   "metadata": {},
   "source": [
    "# Showing model\n",
    "This block builds showing models for the different possible OBMDPs using the `PlanningInObserverBeliefModel` class defined in `planninginbeliefmodel.py`. It discretizes the belief space using the `seed_trajs` generated in the previous block and solves the resulting (large) discrete MDP.\n",
    "\n",
    "**Estimated running time: 6-8 mins**.\n",
    "\n",
    "*Note that since the ground transition function is the same across all the ground MDPs considered here, the world-belief transitions are also the same. This means we can speed up computations slightly by reusing the transition function, `tf`.*"
   ]
  },
  {
   "cell_type": "code",
   "execution_count": 4,
   "metadata": {
    "collapsed": false
   },
   "outputs": [
    {
     "name": "stdout",
     "output_type": "stream",
     "text": [
      "ooo  37.94s\n",
      "oox  36.41s\n",
      "oxo  37.58s\n",
      "oxx  41.38s\n",
      "xoo  55.39s\n",
      "xox  50.66s\n",
      "xxo  42.23s\n",
      "xxx  89.60s\n"
     ]
    }
   ],
   "source": [
    "showing_models = []\n",
    "tf = None\n",
    "for i, rfc in enumerate(mdp_codes):\n",
    "    starttime = time.time()\n",
    "    print rfc,\n",
    "    m = PlanningInObserverBeliefModel(\n",
    "        base_discount_rate = base_discount_rate,\n",
    "        base_softmax_temp = base_softmax_temp,\n",
    "        obmdp_discount_rate = obmdp_discount_rate,\n",
    "        obmdp_softmax_temp=obmdp_softmax_temp,\n",
    "        \n",
    "        true_mdp_code=rfc,\n",
    "        discretized_tf=tf\n",
    "    )\n",
    "    m.seed_beliefs_with_trajs(seed_trajs)\n",
    "    m.build()\n",
    "    m.solve()\n",
    "    showing_models.append(m.ob_mdp)\n",
    "    tf = m.ob_mdp.get_discretized_tf()\n",
    "    print \" %.2fs\" % (time.time() - starttime)"
   ]
  },
  {
   "cell_type": "markdown",
   "metadata": {},
   "source": [
    "# Generating trajectories and calculating observer beliefs\n",
    "\n",
    "The following two blocks generate *doing* and *showing* world-state/action trajectories using the models defined above. For each sequence of world-states and actions, we then calculate the change in the observer models' beliefs over time. The two models are the *naive* and *sophisticated* observers, which correspond to the following equations, respectively:\n",
    "\n",
    "\\begin{align}\n",
    "b^{\\text{Obs}}_{t+1}(M_i) &= P(M_i \\mid w_t, a_t, w_{t+1})\\\\\n",
    "&\\propto P(a_t, w_{t+1} \\mid w_t, M_i)P(M_i)\\\\\n",
    "&= P(a_t \\mid w_t, M_i)P(w_{t+1} \\mid w_t, a_t, M_i)P(M_i)\\\\\n",
    "&= \\pi_{i}^{\\text{Do}}(a_t \\mid w_t)T_{i}(w_{t+1} \\mid w_t, a_t)b_t^{\\text{Obs}}(M_i).\n",
    "\\end{align}\n",
    "\n",
    "and\n",
    "\n",
    "\\begin{align}\n",
    "b^{\\text{S-Obs}}_{t+1}(M_i) &= P(M_i \\mid w_t, b^{\\text{Obs}}_t, a_t, w_{t+1}, b^{\\text{Obs}}_{t+1}) \\\\\n",
    "&\\propto \\pi_i^{\\text{Show}}(a_t \\mid w_t, b_t^{\\text{Obs}})T_i(w_{t+1} \\mid w_t, a_t)b_t^{\\text{S-Obs}}(M_i).\n",
    "\\end{align}\n",
    "\n",
    "Each trajectory and final belief state is recorded in the `model_obs_judgments` dataframe and cached.\n",
    "\n",
    "**Estimated running time: 20 min**"
   ]
  },
  {
   "cell_type": "code",
   "execution_count": 5,
   "metadata": {
    "collapsed": false
   },
   "outputs": [],
   "source": [
    "def calc_obs_sobs_traj(wtraj):\n",
    "    b_sobs = np.array(showing_models[0].get_init_state()[0])\n",
    "    s = showing_models[0].get_init_state()\n",
    "    \n",
    "    obs_traj = [s[0],]\n",
    "    sobs_traj = [b_sobs,]\n",
    "    for w, a in wtraj:\n",
    "        # get next naive belief\n",
    "        ns = showing_models[0].transition(s=s, a=a)\n",
    "        obs_traj.append(ns[0])\n",
    "        \n",
    "        # calc next sophisticated belief\n",
    "        show_a_probs = []\n",
    "        for m in showing_models:\n",
    "            a_probs = m.get_softmax_actionprobs(s=s, temp=obmdp_softmax_temp)\n",
    "            show_a_probs.append(a_probs[a])\n",
    "        show_a_probs = np.array(show_a_probs)\n",
    "        b_sobs = b_sobs*show_a_probs\n",
    "        b_sobs = b_sobs/np.sum(b_sobs)\n",
    "        sobs_traj.append(b_sobs)\n",
    "        \n",
    "        s = ns\n",
    "    return {'obs_traj': obs_traj, 'sobs_traj': sobs_traj}\n",
    "\n",
    "def is_correct(row):\n",
    "    rf = dict(zip(['orange', 'purple', 'cyan'], row['rf']))\n",
    "    if rf[row['color']] == 'x' \\\n",
    "            and row['exp_safe'] < .5:\n",
    "        return True\n",
    "    elif rf[row['color']] == 'o' \\\n",
    "            and row['exp_safe'] >= .5:\n",
    "        return True\n",
    "    return False\n",
    "\n",
    "def calc_correct_prob(row):\n",
    "    rf = dict(zip(['orange', 'purple', 'cyan'], row['rf']))\n",
    "    if rf[row['color']] == 'x':\n",
    "        return 1 - row['exp_safe']\n",
    "    elif rf[row['color']] == 'o':\n",
    "        return row['exp_safe']"
   ]
  },
  {
   "cell_type": "code",
   "execution_count": null,
   "metadata": {
    "collapsed": false
   },
   "outputs": [
    {
     "name": "stdout",
     "output_type": "stream",
     "text": [
      "0  115.38s\n",
      "1  113.75s\n",
      "2 "
     ]
    }
   ],
   "source": [
    "n_trajs = 100\n",
    "forder = ['orange', 'purple', 'cyan']\n",
    "model_obs_judgments = []\n",
    "for mi, (do_m, show_m) in enumerate(zip(doing_models, showing_models)):\n",
    "    do_wtrajs = []\n",
    "    show_wtrajs = []\n",
    "    \n",
    "    print mi,\n",
    "    starttime = time.time()\n",
    "    for _ in xrange(n_trajs):\n",
    "        # generate and interpret DOING trajectory\n",
    "        do_traj = do_m.run(temp=do_softmax)\n",
    "        do_traj = [(w, a) for w, a, nw, r in do_traj]\n",
    "        \n",
    "        belief_trajs = calc_obs_sobs_traj(do_traj)\n",
    "        obs_judg = mdp_to_feature_belief(belief_trajs['obs_traj'][-1], mdp_codes, forder)\n",
    "        obs_judg['rf'] = mdp_codes[mi]\n",
    "        obs_judg['observer'] = 'naive'\n",
    "        obs_judg['demonstrator'] = 'doing'\n",
    "        obs_judg['traj'] = do_traj\n",
    "        obs_judg['belief_traj'] = belief_trajs['obs_traj']\n",
    "        model_obs_judgments.append(obs_judg)\n",
    "        \n",
    "        sobs_judg = mdp_to_feature_belief(belief_trajs['sobs_traj'][-1], mdp_codes, forder)\n",
    "        sobs_judg['rf'] = mdp_codes[mi]\n",
    "        sobs_judg['observer'] = 'sophisticated'\n",
    "        sobs_judg['demonstrator'] = 'doing'\n",
    "        sobs_judg['traj'] = do_traj\n",
    "        sobs_judg['belief_traj'] = belief_trajs['sobs_traj']\n",
    "        model_obs_judgments.append(sobs_judg)\n",
    "        \n",
    "        # generate and interpret SHOWING trajectory\n",
    "        show_traj = show_m.run(temp=obmdp_softmax_temp)\n",
    "        show_traj = [(w, a) for (b, w), a, ns, r in show_traj]\n",
    "        \n",
    "        belief_trajs = calc_obs_sobs_traj(show_traj)\n",
    "        obs_judg = mdp_to_feature_belief(belief_trajs['obs_traj'][-1], mdp_codes, forder)\n",
    "        obs_judg['rf'] = mdp_codes[mi]\n",
    "        obs_judg['observer'] = 'naive'\n",
    "        obs_judg['demonstrator'] = 'showing'\n",
    "        obs_judg['traj'] = show_traj\n",
    "        obs_judg['belief_traj'] = belief_trajs['obs_traj']\n",
    "        model_obs_judgments.append(obs_judg)\n",
    "        \n",
    "        sobs_judg = mdp_to_feature_belief(belief_trajs['sobs_traj'][-1], mdp_codes, forder)\n",
    "        sobs_judg['rf'] = mdp_codes[mi]\n",
    "        sobs_judg['observer'] = 'sophisticated'\n",
    "        sobs_judg['demonstrator'] = 'showing'\n",
    "        sobs_judg['traj'] = show_traj\n",
    "        sobs_judg['belief_traj'] = belief_trajs['sobs_traj']\n",
    "        model_obs_judgments.append(sobs_judg)\n",
    "    print \" %.2fs\" % (time.time() - starttime)\n",
    "        \n",
    "model_obs_judgments = pd.DataFrame(model_obs_judgments)\n",
    "model_obs_judgments = pd.melt(model_obs_judgments,\n",
    "    id_vars=['demonstrator', 'rf', 'observer', 'traj'], \n",
    "    value_name='exp_safe', \n",
    "    var_name='color')\n",
    "\n",
    "model_obs_judgments['confidence'] = model_obs_judgments['exp_safe'].apply(lambda v: abs(.5-v))\n",
    "model_obs_judgments['correct'] = model_obs_judgments.apply(is_correct, axis=1)\n",
    "model_obs_judgments['correct_prob'] = model_obs_judgments.apply(calc_correct_prob, axis=1)\n",
    "\n",
    "model_obs_judgments.to_pickle('./cached_values/model_obs_judgments.pkl')"
   ]
  }
 ],
 "metadata": {
  "kernelspec": {
   "display_name": "Python 2",
   "language": "python",
   "name": "python2"
  },
  "language_info": {
   "codemirror_mode": {
    "name": "ipython",
    "version": 2
   },
   "file_extension": ".py",
   "mimetype": "text/x-python",
   "name": "python",
   "nbconvert_exporter": "python",
   "pygments_lexer": "ipython2",
   "version": "2.7.12"
  }
 },
 "nbformat": 4,
 "nbformat_minor": 2
}
